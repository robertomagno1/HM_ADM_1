{
 "cells": [
  {
   "cell_type": "markdown",
   "metadata": {},
   "source": [
    "### Introduction"
   ]
  },
  {
   "cell_type": "markdown",
   "metadata": {},
   "source": [
    "Say \"Hello, World!\" With Python"
   ]
  },
  {
   "cell_type": "code",
   "execution_count": null,
   "metadata": {},
   "outputs": [],
   "source": [
    "print(\"Hello, World!\")"
   ]
  },
  {
   "cell_type": "markdown",
   "metadata": {},
   "source": [
    "Python If-Else"
   ]
  },
  {
   "cell_type": "code",
   "execution_count": null,
   "metadata": {},
   "outputs": [],
   "source": [
    "#!/bin/python3\n",
    "\n",
    "import math\n",
    "import os\n",
    "import random\n",
    "import re\n",
    "import sys\n",
    "\n",
    "if __name__ == '__main__':\n",
    "    n = int(input().strip())\n",
    "\n",
    "if n %2!= 0:\n",
    "    print('Weird')\n",
    "else:\n",
    "    if 2<=n<=5 :\n",
    "        print('Not Weird')\n",
    "    if 6<=n<=20:\n",
    "        print('Weird')\n",
    "    if n > 20:\n",
    "        print('Not Weird')"
   ]
  },
  {
   "cell_type": "markdown",
   "metadata": {},
   "source": [
    "Arithmetic Operators\n"
   ]
  },
  {
   "cell_type": "code",
   "execution_count": null,
   "metadata": {},
   "outputs": [],
   "source": [
    "if __name__ == '__main__':\n",
    "    a = int(input())\n",
    "    b = int(input())\n",
    "    \n",
    "print(a+b)\n",
    "print(a-b)\n",
    "print(a*b)"
   ]
  },
  {
   "cell_type": "markdown",
   "metadata": {},
   "source": [
    "Python: Division\n"
   ]
  },
  {
   "cell_type": "code",
   "execution_count": null,
   "metadata": {},
   "outputs": [],
   "source": [
    "if __name__ == '__main__':\n",
    "    a = int(input())\n",
    "    b = int(input())\n",
    "    \n",
    "print(a//b)\n",
    "print(a/b)"
   ]
  },
  {
   "cell_type": "markdown",
   "metadata": {},
   "source": [
    "Loops"
   ]
  },
  {
   "cell_type": "code",
   "execution_count": null,
   "metadata": {},
   "outputs": [],
   "source": [
    "if __name__ == '__main__':\n",
    "    n = int(input())\n",
    "    \n",
    "for i in range(n):\n",
    "    print(i**2)"
   ]
  },
  {
   "cell_type": "markdown",
   "metadata": {},
   "source": [
    "Write a function"
   ]
  },
  {
   "cell_type": "code",
   "execution_count": null,
   "metadata": {},
   "outputs": [],
   "source": [
    "def is_leap(year):\n",
    "    leap = False\n",
    "    \n",
    "    # Write your logic here\n",
    "    if (year %4 == 0 and year %100 !=0) or year%400 == 0 :\n",
    "        return True \n",
    "    \n",
    "    return leap"
   ]
  },
  {
   "cell_type": "markdown",
   "metadata": {},
   "source": [
    "Print Function"
   ]
  },
  {
   "cell_type": "code",
   "execution_count": null,
   "metadata": {},
   "outputs": [],
   "source": [
    "if __name__ == '__main__':\n",
    "    n = int(input())\n",
    "    for i in range(1, n+1):\n",
    "        print(i, end= '')"
   ]
  },
  {
   "cell_type": "markdown",
   "metadata": {},
   "source": [
    "### Data types"
   ]
  },
  {
   "cell_type": "markdown",
   "metadata": {},
   "source": [
    "List Comprehensions"
   ]
  },
  {
   "cell_type": "code",
   "execution_count": null,
   "metadata": {},
   "outputs": [],
   "source": [
    "if __name__ == '__main__':\n",
    "    x = int(input())\n",
    "    y = int(input())\n",
    "    z = int(input())\n",
    "    n = int(input())\n",
    "    \n",
    "    coordinates = [[i, j, k] for i in range(x+1) for j in range(y+1) for k in range(z+1) if i+j+k != n]\n",
    "    print(coordinates)"
   ]
  },
  {
   "cell_type": "markdown",
   "metadata": {},
   "source": [
    "Find the Runner-Up Score!\n"
   ]
  },
  {
   "cell_type": "code",
   "execution_count": null,
   "metadata": {},
   "outputs": [],
   "source": [
    "if __name__ == '__main__':\n",
    "    n = int(input())\n",
    "    arr = map(int, input().split())\n",
    "\n",
    "\n",
    "    list = list(set(arr))\n",
    "    sorted_list = list.sort()\n",
    "    print(list[-2])"
   ]
  },
  {
   "cell_type": "markdown",
   "metadata": {},
   "source": [
    "Nested Lists\n"
   ]
  },
  {
   "cell_type": "code",
   "execution_count": null,
   "metadata": {},
   "outputs": [],
   "source": [
    "if __name__ == '__main__':\n",
    "    score_list = []\n",
    "    name_list = []\n",
    "    total_list = []\n",
    "    \n",
    "    for _ in range(int(input())):\n",
    "        name = input()\n",
    "        score = float(input())\n",
    "        score_list.append(score)\n",
    "        total_list.append([name, score])\n",
    "        \n",
    "    lowest = list(set(score_list))\n",
    "    lowest.sort()\n",
    "    \n",
    "    for name, score in total_list:\n",
    "        if score == lowest[1]:\n",
    "            name_list.append(name)\n",
    "    \n",
    "    name_list.sort()\n",
    "    for item in name_list:\n",
    "        print(item)"
   ]
  },
  {
   "cell_type": "markdown",
   "metadata": {},
   "source": [
    "Finding the percentage"
   ]
  },
  {
   "cell_type": "code",
   "execution_count": null,
   "metadata": {},
   "outputs": [],
   "source": [
    "if __name__ == '__main__':\n",
    "    n = int(input())\n",
    "    student_marks = {}\n",
    "    for _ in range(n):\n",
    "        name, *line = input().split()\n",
    "        scores = list(map(float, line))\n",
    "        student_marks[name] = scores\n",
    "    query_name = input()\n",
    "    \n",
    "    sum_marks = 0\n",
    "    for item in student_marks[query_name]:\n",
    "        sum_marks += item\n",
    "        \n",
    "    average_marks = sum_marks/len(student_marks[query_name])\n",
    "    print(f\"{average_marks:.2f}\")"
   ]
  },
  {
   "cell_type": "markdown",
   "metadata": {},
   "source": [
    "Lists\n"
   ]
  },
  {
   "cell_type": "code",
   "execution_count": null,
   "metadata": {},
   "outputs": [],
   "source": [
    "if __name__ == '__main__':\n",
    "    N = int(input())\n",
    "    list = []\n",
    "    \n",
    "    for _ in range(N):\n",
    "        command = input().split()\n",
    "        \n",
    "        if command[0] == 'insert':\n",
    "            list.insert(int(command[1]), int(command[2]))\n",
    "        elif command[0] == 'print':\n",
    "            print(list)\n",
    "        elif command[0] == 'remove':\n",
    "            list.remove(int(command[1]))\n",
    "        elif command[0] == 'append':\n",
    "            list.append(int(command[1]))\n",
    "        elif command[0] == 'sort':\n",
    "            list.sort()\n",
    "        elif command[0] == 'pop':\n",
    "            list.pop()\n",
    "        elif command[0] == 'reverse':\n",
    "            list.reverse()"
   ]
  },
  {
   "cell_type": "markdown",
   "metadata": {},
   "source": [
    "Tuples"
   ]
  },
  {
   "cell_type": "code",
   "execution_count": null,
   "metadata": {},
   "outputs": [],
   "source": [
    "if __name__ == '__main__':\n",
    "    n = int(input())\n",
    "    integer_list = tuple(map(int, input().split()))\n",
    "    print(hash(integer_list))"
   ]
  },
  {
   "cell_type": "markdown",
   "metadata": {},
   "source": [
    "### Strings "
   ]
  },
  {
   "cell_type": "markdown",
   "metadata": {},
   "source": [
    "sWAP cASE\n"
   ]
  },
  {
   "cell_type": "code",
   "execution_count": null,
   "metadata": {},
   "outputs": [],
   "source": [
    "def swap_case(s):\n",
    "    result = ''\n",
    "    for char in s:\n",
    "        if char.islower():\n",
    "            result += char.upper()\n",
    "            \n",
    "        elif char.isupper():\n",
    "            result += char.lower()\n",
    "        else:\n",
    "            result += char\n",
    "    return result"
   ]
  },
  {
   "cell_type": "markdown",
   "metadata": {},
   "source": [
    "String Split and Join\n"
   ]
  },
  {
   "cell_type": "code",
   "execution_count": null,
   "metadata": {},
   "outputs": [],
   "source": [
    "def split_and_join(line):\n",
    "    # write your code here\n",
    "    \n",
    "    words = line.split()\n",
    "    \n",
    "    new_line = '-'.join(words)\n",
    "    \n",
    "    return new_line"
   ]
  },
  {
   "cell_type": "markdown",
   "metadata": {},
   "source": [
    "What's Your Name?"
   ]
  },
  {
   "cell_type": "code",
   "execution_count": null,
   "metadata": {},
   "outputs": [],
   "source": [
    "def print_full_name(first, last):\n",
    "    # Write your code here\n",
    "    print(f'Hello {first} {last}! You just delved into python.')"
   ]
  },
  {
   "cell_type": "markdown",
   "metadata": {},
   "source": [
    "Mutations\n"
   ]
  },
  {
   "cell_type": "code",
   "execution_count": null,
   "metadata": {},
   "outputs": [],
   "source": [
    "def mutate_string(string, position, character):\n",
    "    \n",
    "    l = list(string)\n",
    "    l[position] = character\n",
    "    return ''.join(l)"
   ]
  },
  {
   "cell_type": "markdown",
   "metadata": {},
   "source": [
    "Find a string"
   ]
  },
  {
   "cell_type": "code",
   "execution_count": null,
   "metadata": {},
   "outputs": [],
   "source": [
    "def count_substring(string, sub_string):\n",
    "    count = 0\n",
    "    # Calculate the length of sub_string one time outside the loop\n",
    "    length_of_sub = len(sub_string)\n",
    "    # Iterate through the string\n",
    "    for i in range(len(string) - length_of_sub + 1):\n",
    "        # Slice the string from index i to i + length of the sub_string\n",
    "        if string[i:i+length_of_sub] == sub_string:\n",
    "            count += 1\n",
    "    return count"
   ]
  },
  {
   "cell_type": "markdown",
   "metadata": {},
   "source": [
    "String Validators"
   ]
  },
  {
   "cell_type": "code",
   "execution_count": null,
   "metadata": {},
   "outputs": [],
   "source": [
    "if __name__ == '__main__':\n",
    "    s = input()\n",
    "    \n",
    "    print(any(char.isalnum() for char in s))\n",
    "    print(any(char.isalpha() for char in s))\n",
    "    print(any(char.isdigit() for char in s))\n",
    "    print(any(char.islower() for char in s))\n",
    "    print(any(char.isupper() for char in s))"
   ]
  },
  {
   "cell_type": "markdown",
   "metadata": {},
   "source": [
    "Text Alignment"
   ]
  },
  {
   "cell_type": "code",
   "execution_count": null,
   "metadata": {},
   "outputs": [],
   "source": [
    "\n",
    "thickness = int(input()) #This must be an odd number\n",
    "c = 'H'\n",
    "\n",
    "#Top Cone\n",
    "for i in range(thickness):\n",
    "    print((c*i).rjust(thickness-1)+c+(c*i).ljust(thickness-1))\n",
    "\n",
    "#Top Pillars\n",
    "for i in range(thickness+1):\n",
    "    print((c*thickness).center(thickness*2)+(c*thickness).center(thickness*6))\n",
    "\n",
    "#Middle Belt\n",
    "for i in range((thickness+1)//2):\n",
    "    print((c*thickness*5).center(thickness*6))    \n",
    "\n",
    "#Bottom Pillars\n",
    "for i in range(thickness+1):\n",
    "    print((c*thickness).center(thickness*2)+(c*thickness).center(thickness*6))    \n",
    "\n",
    "#Bottom Cone\n",
    "for i in range(thickness):\n",
    "    print(((c*(thickness-i-1)).rjust(thickness)+c+(c*(thickness-i-1)).ljust(thickness)).rjust(thickness*6))"
   ]
  },
  {
   "cell_type": "markdown",
   "metadata": {},
   "source": [
    "Text Wrap"
   ]
  },
  {
   "cell_type": "code",
   "execution_count": null,
   "metadata": {},
   "outputs": [],
   "source": [
    "def wrap(string, max_width):\n",
    "    return textwrap.fill(string, max_width)"
   ]
  },
  {
   "cell_type": "markdown",
   "metadata": {},
   "source": [
    "Designer Door Mat"
   ]
  },
  {
   "cell_type": "code",
   "execution_count": null,
   "metadata": {},
   "outputs": [],
   "source": [
    "N , M = map(int, input().split())\n",
    "\n",
    "for i in range(1, N , 2):\n",
    "    pattern = '.|.'*i \n",
    "    print(pattern.center(M, '-'))\n",
    "    \n",
    "print('WELCOME'.center(M, '-'))\n",
    "\n",
    "for i in range(N-2, 0, -2):\n",
    "    pattern = '.|.'*i\n",
    "    print(pattern.center(M, '-'))"
   ]
  },
  {
   "cell_type": "markdown",
   "metadata": {},
   "source": [
    "String Formatting"
   ]
  },
  {
   "cell_type": "code",
   "execution_count": null,
   "metadata": {},
   "outputs": [],
   "source": [
    "def print_formatted(number):\n",
    "    # your code goes here\n",
    "    width = len('{:b}'.format(number))\n",
    "    \n",
    "    for i in range(1, number+1):\n",
    "        print('{:>{width}d} {:>{width}o} {:>{width}X} {:>{width}b}'.format(i, i, i, i, width=width))"
   ]
  },
  {
   "cell_type": "markdown",
   "metadata": {},
   "source": [
    "Alphabet Rangoli"
   ]
  },
  {
   "cell_type": "code",
   "execution_count": null,
   "metadata": {},
   "outputs": [],
   "source": [
    "def print_rangoli(size):\n",
    "    alphabet = [chr(i) for i in range(97, 123)]\n",
    "    alphabet = alphabet[:size]\n",
    "    for i in range(size - 1, -size, -1):\n",
    "        row_letters = alphabet[size-1:abs(i):-1] + alphabet[abs(i):size]\n",
    "        row = '-'.join(row_letters)\n",
    "        print(row.center(size * 4 - 3, '-'))"
   ]
  },
  {
   "cell_type": "markdown",
   "metadata": {},
   "source": [
    "Capitalize!"
   ]
  },
  {
   "cell_type": "code",
   "execution_count": null,
   "metadata": {},
   "outputs": [],
   "source": [
    "def solve(s):\n",
    "    return ' '.join([word.capitalize() for word in s.split(' ')])"
   ]
  },
  {
   "cell_type": "markdown",
   "metadata": {},
   "source": [
    "Map and Lambda Function"
   ]
  },
  {
   "cell_type": "code",
   "execution_count": null,
   "metadata": {},
   "outputs": [],
   "source": [
    "###insert"
   ]
  },
  {
   "cell_type": "markdown",
   "metadata": {},
   "source": [
    "The Minion Game"
   ]
  },
  {
   "cell_type": "code",
   "execution_count": null,
   "metadata": {},
   "outputs": [],
   "source": [
    "def minion_game(string):\n",
    "    score_kevin = 0\n",
    "    score_stuart = 0\n",
    "    vocals = set('AEIOU')\n",
    "    \n",
    "    for i in range(len(string)):\n",
    "        if string[i] in vocals:\n",
    "            score_kevin += len(string) - i\n",
    "        else:\n",
    "            score_stuart += len(string) - i\n",
    "            \n",
    "    if score_kevin > score_stuart:\n",
    "        print(f'Kevin {score_kevin}')\n",
    "    elif score_stuart > score_kevin:\n",
    "        print(f'Stuart {score_stuart}')\n",
    "    else:\n",
    "        print('Draw')"
   ]
  },
  {
   "cell_type": "markdown",
   "metadata": {},
   "source": [
    "Merge the Tools!"
   ]
  },
  {
   "cell_type": "code",
   "execution_count": null,
   "metadata": {},
   "outputs": [],
   "source": [
    "def merge_the_tools(string, k):\n",
    "    substrings = [string[i:i+k] for i in range(0, len(string), k)]\n",
    "    for substring in substrings:\n",
    "        print(unique_subsequence(substring))\n",
    "        \n",
    "def unique_subsequence(substring):\n",
    "    seen = set()\n",
    "    result = []\n",
    "    for char in substring:\n",
    "        if char not in seen:\n",
    "            seen.add(char)\n",
    "            result.append(char)\n",
    "    return ''.join(result)"
   ]
  },
  {
   "cell_type": "markdown",
   "metadata": {},
   "source": [
    "### Sets"
   ]
  },
  {
   "cell_type": "markdown",
   "metadata": {},
   "source": [
    "Introduction to Sets"
   ]
  },
  {
   "cell_type": "code",
   "execution_count": null,
   "metadata": {},
   "outputs": [],
   "source": [
    "def average(array):\n",
    "    d = set(array)\n",
    "    return sum(d)/len(d)"
   ]
  },
  {
   "cell_type": "markdown",
   "metadata": {},
   "source": [
    "Symmetric Difference"
   ]
  },
  {
   "cell_type": "code",
   "execution_count": null,
   "metadata": {},
   "outputs": [],
   "source": [
    "m = int(input()) \n",
    "set_a = set(map(int, input().split()))\n",
    "\n",
    "n = int(input())  #\n",
    "set_b = set(map(int, input().split()))\n",
    "\n",
    "sym_diff = set_a.symmetric_difference(set_b)\n",
    "\n",
    "for number in sorted(sym_diff):\n",
    "    print(number)"
   ]
  },
  {
   "cell_type": "markdown",
   "metadata": {},
   "source": [
    "No Idea!"
   ]
  },
  {
   "cell_type": "code",
   "execution_count": null,
   "metadata": {},
   "outputs": [],
   "source": [
    "n = map(int, input().split())\n",
    "array = list(map(int, input().split()))\n",
    "\n",
    "A = set(map(int, input().split()))\n",
    "B = set(map(int, input().split()))\n",
    "\n",
    "happiness = 0\n",
    "\n",
    "for n in array:\n",
    "    if n in A:\n",
    "        happiness += 1\n",
    "    if n in B:\n",
    "        happiness -= 1\n",
    "\n",
    "print(happiness)"
   ]
  },
  {
   "cell_type": "markdown",
   "metadata": {},
   "source": [
    "Set .add()"
   ]
  },
  {
   "cell_type": "code",
   "execution_count": null,
   "metadata": {},
   "outputs": [],
   "source": [
    "n = int(input())\n",
    "unique = set()\n",
    "\n",
    "for i in range(n):\n",
    "    country = input()\n",
    "    unique.add(country)\n",
    "print(len(unique))"
   ]
  },
  {
   "cell_type": "markdown",
   "metadata": {},
   "source": [
    "Set .discard(), .remove() & .pop()"
   ]
  },
  {
   "cell_type": "code",
   "execution_count": null,
   "metadata": {},
   "outputs": [],
   "source": [
    "n = int(input())\n",
    "s = set(map(int, input().split()))\n",
    "\n",
    "m = int(input())\n",
    "\n",
    "for _ in range(m):\n",
    "    command = input().split()\n",
    "    if command[0] == 'pop':\n",
    "        if len(s) > 0:\n",
    "            s.pop()\n",
    "    elif command[0] == 'remove':\n",
    "        try:\n",
    "            s.remove(int(command[1]))\n",
    "        except KeyError:\n",
    "            pass\n",
    "    elif command[0] == 'discard':\n",
    "        s.discard(int(command[1]))\n",
    "print(sum(s))"
   ]
  },
  {
   "cell_type": "markdown",
   "metadata": {},
   "source": [
    "Set .union() Operation"
   ]
  },
  {
   "cell_type": "code",
   "execution_count": null,
   "metadata": {},
   "outputs": [],
   "source": [
    "english_count = int(input())\n",
    "english_subscribers = set(map(int, input().split()))\n",
    "\n",
    "french_count = int(input())\n",
    "french_subscribers = set(map(int, input().split()))\n",
    "\n",
    "all_subscribers = english_subscribers | french_subscribers\n",
    "\n",
    "print(len(all_subscribers))"
   ]
  },
  {
   "cell_type": "markdown",
   "metadata": {},
   "source": [
    "Set .intersection() Operation"
   ]
  },
  {
   "cell_type": "code",
   "execution_count": null,
   "metadata": {},
   "outputs": [],
   "source": [
    "english = int(input())\n",
    "count_eng = set(map(int ,input().split()))\n",
    "\n",
    "french = int(input())\n",
    "count_fr = set(map(int, input().split()))\n",
    "\n",
    "count = 0\n",
    "\n",
    "print(len(count_eng.intersection(count_fr)))"
   ]
  },
  {
   "cell_type": "markdown",
   "metadata": {},
   "source": [
    "Set .difference() Operation"
   ]
  },
  {
   "cell_type": "code",
   "execution_count": null,
   "metadata": {},
   "outputs": [],
   "source": [
    "eng = int(input())\n",
    "count_eng = set(map(int, input().split()))\n",
    "\n",
    "fr = int(input())\n",
    "count_fr = set(map(int, input().split()))\n",
    "\n",
    "print(len(count_eng.difference(count_fr)))"
   ]
  },
  {
   "cell_type": "markdown",
   "metadata": {},
   "source": [
    "Set .symmetric_difference() Operation"
   ]
  },
  {
   "cell_type": "code",
   "execution_count": null,
   "metadata": {},
   "outputs": [],
   "source": [
    "eng = int(input())\n",
    "count_eng = set(map(int, input().split()))\n",
    "\n",
    "fr = int(input())\n",
    "count_fr = set(map(int, input().split()))\n",
    "\n",
    "print(len(count_eng.symmetric_difference(count_fr)))"
   ]
  },
  {
   "cell_type": "markdown",
   "metadata": {},
   "source": [
    "Set Mutations"
   ]
  },
  {
   "cell_type": "code",
   "execution_count": null,
   "metadata": {},
   "outputs": [],
   "source": [
    "len_A = int(input())\n",
    "elem_A = set(map(int, input().split()))\n",
    "\n",
    "number_of_sets = int(input())\n",
    "'#B = set(map(int, input().split()))'\n",
    "\n",
    "for _ in range(number_of_sets):\n",
    "    command = input().split()\n",
    "    other_set = set(map(int, input().split()))\n",
    "    \n",
    "    if command[0] == 'intersection_update':\n",
    "        elem_A.intersection_update(other_set)\n",
    "    elif command[0] == 'update':\n",
    "        elem_A.update(other_set)\n",
    "    elif command[0] == 'symmetric_difference_update':\n",
    "        elem_A.symmetric_difference_update(other_set)\n",
    "    elif command[0] == 'difference_update':\n",
    "        elem_A.difference_update(other_set)\n",
    "        \n",
    "print(sum(elem_A))"
   ]
  },
  {
   "cell_type": "markdown",
   "metadata": {},
   "source": [
    "The Captain's Room"
   ]
  },
  {
   "cell_type": "code",
   "execution_count": null,
   "metadata": {},
   "outputs": [],
   "source": [
    "from collections import Counter\n",
    "\n",
    "k = int(input())\n",
    "rooms = list(map(int, input().split()))\n",
    "counts = Counter(rooms)\n",
    "\n",
    "for room, count in counts.items():\n",
    "    if count == 1:\n",
    "        print(room)\n",
    "        break"
   ]
  },
  {
   "cell_type": "markdown",
   "metadata": {},
   "source": [
    "Check Subset"
   ]
  },
  {
   "cell_type": "code",
   "execution_count": null,
   "metadata": {},
   "outputs": [],
   "source": [
    "num_tests = int(input())\n",
    "\n",
    "results = []\n",
    "for _ in range(num_tests):\n",
    "    input()\n",
    "    set_a = set(map(int, input().split()))\n",
    "    input()\n",
    "    set_b = set(map(int, input().split()))\n",
    "    results.append(set_a <= set_b)\n",
    "for result in results:\n",
    "    print(result)"
   ]
  },
  {
   "cell_type": "markdown",
   "metadata": {},
   "source": [
    "Check Strict Superset"
   ]
  },
  {
   "cell_type": "code",
   "execution_count": null,
   "metadata": {},
   "outputs": [],
   "source": [
    "A = set(map(int, input().split()))\n",
    "n = int(input())\n",
    "\n",
    "is_superset = True\n",
    "\n",
    "for _ in range(n):\n",
    "    other_set = set(map(int, input().split()))\n",
    "    if not A > other_set:\n",
    "        is_superset = False\n",
    "        break\n",
    "print(is_superset)"
   ]
  },
  {
   "cell_type": "markdown",
   "metadata": {},
   "source": [
    "### Collections"
   ]
  },
  {
   "cell_type": "markdown",
   "metadata": {},
   "source": [
    "collections.Counter()"
   ]
  },
  {
   "cell_type": "code",
   "execution_count": null,
   "metadata": {},
   "outputs": [],
   "source": [
    "from collections import Counter\n",
    "\n",
    "n_shoes = int(input())\n",
    "shoe_size_shop = list(map(int, input().split()))\n",
    "n_customers = int(input())\n",
    "\n",
    "shoe_size_counter = Counter(shoe_size_shop)\n",
    "'#shoe_size_customers = set(map(int, input().split()))'\n",
    "total_earn = 0\n",
    "\n",
    "for _ in range(n_customers):\n",
    "    size, price = map(int, input().split())\n",
    "    if shoe_size_counter[size] > 0:\n",
    "        total_earn += price\n",
    "        shoe_size_counter[size] -= 1\n",
    "print(total_earn)"
   ]
  },
  {
   "cell_type": "markdown",
   "metadata": {},
   "source": [
    "DefaultDict Tutorial"
   ]
  },
  {
   "cell_type": "code",
   "execution_count": null,
   "metadata": {},
   "outputs": [],
   "source": [
    "from collections import defaultdict\n",
    "\n",
    "n, m = map(int, input().split())\n",
    "word_positions = defaultdict(list)\n",
    "\n",
    "for i in range(n):\n",
    "    word = input().strip()\n",
    "    word_positions[word].append(str(i + 1)) \n",
    "\n",
    "results = []\n",
    "for _ in range(m):\n",
    "    word = input().strip()\n",
    "    if word in word_positions:\n",
    "        results.append(\" \".join(word_positions[word]))\n",
    "    else:\n",
    "        results.append(\"-1\")\n",
    "\n",
    "for result in results:\n",
    "    print(result)"
   ]
  },
  {
   "cell_type": "markdown",
   "metadata": {},
   "source": [
    "Collections.namedtuple()"
   ]
  },
  {
   "cell_type": "code",
   "execution_count": null,
   "metadata": {},
   "outputs": [],
   "source": [
    "from collections import namedtuple\n",
    "n = int(input())\n",
    "Student = namedtuple('Student', input().strip())\n",
    "marks = []\n",
    "for _ in range(n):\n",
    "    student_data = Student(*input().split())\n",
    "    marks.append(int(student_data.MARKS))\n",
    "\n",
    "print(f\"{sum(marks) / n:.2f}\")"
   ]
  },
  {
   "cell_type": "markdown",
   "metadata": {},
   "source": [
    "Collections.OrderedDict()"
   ]
  },
  {
   "cell_type": "code",
   "execution_count": null,
   "metadata": {},
   "outputs": [],
   "source": [
    "from collections import OrderedDict\n",
    "\n",
    "item_net_price = OrderedDict()\n",
    "n = int(input())\n",
    "\n",
    "for _ in range(n):\n",
    "    entry = input().split()\n",
    "    item_name = ' '.join(entry[:-1])\n",
    "    price = int(entry[-1])\n",
    "    \n",
    "    if item_name in item_net_price:\n",
    "        item_net_price[item_name] += price\n",
    "    else:\n",
    "        item_net_price[item_name] = price \n",
    "        \n",
    "for item, net_price in item_net_price.items():\n",
    "    print(f'{item} {net_price}')"
   ]
  },
  {
   "cell_type": "markdown",
   "metadata": {},
   "source": [
    "Word Order"
   ]
  },
  {
   "cell_type": "code",
   "execution_count": null,
   "metadata": {},
   "outputs": [],
   "source": [
    "from collections import OrderedDict\n",
    "\n",
    "word_counts = OrderedDict()\n",
    "n = int(input())\n",
    "\n",
    "for _ in range(n):\n",
    "    word = input()\n",
    "    if word in word_counts:\n",
    "        word_counts[word] += 1\n",
    "    else:\n",
    "        word_counts[word] = 1\n",
    "        \n",
    "print(len(word_counts))\n",
    "\n",
    "print(' '.join(map(str, word_counts.values())))"
   ]
  },
  {
   "cell_type": "markdown",
   "metadata": {},
   "source": [
    "Collections.deque()"
   ]
  },
  {
   "cell_type": "code",
   "execution_count": null,
   "metadata": {},
   "outputs": [],
   "source": [
    "from collections import deque\n",
    "\n",
    "d = deque()\n",
    "n = int(input())\n",
    "\n",
    "for _ in range(n):\n",
    "    command = input().split()\n",
    "    if command[0] == 'append':\n",
    "        d.append(int(command[1]))\n",
    "    if command[0] == 'pop':\n",
    "        d.pop()\n",
    "    if command[0] == 'popleft':\n",
    "        d.popleft()\n",
    "    if command[0] == 'appendleft':\n",
    "        d.appendleft(int(command[1]))\n",
    "        \n",
    "print(' '.join(map(str, d)))"
   ]
  },
  {
   "cell_type": "markdown",
   "metadata": {},
   "source": [
    "Company Logo"
   ]
  },
  {
   "cell_type": "code",
   "execution_count": null,
   "metadata": {},
   "outputs": [],
   "source": [
    "import math\n",
    "import os\n",
    "import random\n",
    "import re\n",
    "import sys\n",
    "from collections import Counter\n",
    "\n",
    "if __name__ == '__main__':\n",
    "    s = input()\n",
    "char_count = Counter(s)\n",
    "three_most_common = sorted(char_count.items(), key=lambda item: (-item[1], item[0]))[:3]\n",
    "for char, count in three_most_common:\n",
    "    print(char, count)"
   ]
  },
  {
   "cell_type": "markdown",
   "metadata": {},
   "source": [
    "Piling Up!"
   ]
  },
  {
   "cell_type": "code",
   "execution_count": null,
   "metadata": {},
   "outputs": [],
   "source": [
    "t = int(input())\n",
    "    \n",
    "for _ in range(t):\n",
    "    n = int(input())  # Number of cubes, not necessarily used in calculations\n",
    "    cubes = list(map(int, input().split()))\n",
    "    \n",
    "    # Initialize pointers and the variable to hold the last picked cube's size\n",
    "    left_index = 0\n",
    "    right_index = len(cubes) - 1\n",
    "    last_picked = float('inf')\n",
    "    \n",
    "    possible = True  # Assume it's possible unless proven otherwise\n",
    "    \n",
    "    # Process the cubes\n",
    "    while left_index <= right_index:\n",
    "        # Choose the larger cube that can still be placed on the stack\n",
    "        if cubes[left_index] >= cubes[right_index] and cubes[left_index] <= last_picked:\n",
    "            last_picked = cubes[left_index]\n",
    "            left_index += 1\n",
    "        elif cubes[right_index] <= last_picked:\n",
    "            last_picked = cubes[right_index]\n",
    "            right_index -= 1\n",
    "        else:\n",
    "            possible = False\n",
    "            break\n",
    "    \n",
    "    if possible:\n",
    "        print(\"Yes\")\n",
    "    else:\n",
    "        print(\"No\")"
   ]
  },
  {
   "cell_type": "markdown",
   "metadata": {},
   "source": [
    "### Date and Time"
   ]
  },
  {
   "cell_type": "markdown",
   "metadata": {},
   "source": [
    "Calendar Module"
   ]
  },
  {
   "cell_type": "code",
   "execution_count": null,
   "metadata": {},
   "outputs": [],
   "source": [
    "import calendar\n",
    "\n",
    "date_input = input()\n",
    "month, day, year = map(int, date_input.split())\n",
    "weekday = calendar.weekday(year, month, day)\n",
    "days = [\"MONDAY\", \"TUESDAY\", \"WEDNESDAY\", \"THURSDAY\", \"FRIDAY\", \"SATURDAY\", \"SUNDAY\"]\n",
    "print(days[weekday])\n"
   ]
  },
  {
   "cell_type": "markdown",
   "metadata": {},
   "source": [
    "Time delta"
   ]
  },
  {
   "cell_type": "code",
   "execution_count": null,
   "metadata": {},
   "outputs": [],
   "source": [
    "from datetime import date, time, datetime\n",
    "\n",
    "import math\n",
    "import os\n",
    "import random\n",
    "import re\n",
    "import sys\n",
    "\n",
    "# Complete the time_delta function below.\n",
    "def time_delta(t1, t2):\n",
    "    date_format = \"%a %d %b %Y %H:%M:%S %z\"\n",
    "    dt1 = datetime.strptime(t1, date_format)\n",
    "    dt2 = datetime.strptime(t2, date_format)\n",
    "    \n",
    "    delta_seconds = int(abs(dt1-dt2).total_seconds())\n",
    "    return str(delta_seconds)\n",
    "\n",
    "if __name__ == '__main__':\n",
    "    fptr = open(os.environ['OUTPUT_PATH'], 'w')\n",
    "\n",
    "    t = int(input())\n",
    "\n",
    "    for t_itr in range(t):\n",
    "        t1 = input()\n",
    "\n",
    "        t2 = input()\n",
    "\n",
    "        delta = time_delta(t1, t2)\n",
    "\n",
    "        fptr.write(delta + '\\n')\n",
    "\n",
    "    fptr.close()\n"
   ]
  },
  {
   "cell_type": "markdown",
   "metadata": {},
   "source": [
    "### Exceptions"
   ]
  },
  {
   "cell_type": "code",
   "execution_count": null,
   "metadata": {},
   "outputs": [],
   "source": [
    "t = int(input())\n",
    "\n",
    "for i in range(t):\n",
    "    tests_cases = input().split()\n",
    "    try:\n",
    "        result = int(tests_cases[0])//int(tests_cases[1])\n",
    "        print(result)\n",
    "    except ZeroDivisionError as e:\n",
    "        print('Error Code:', e)\n",
    "    except ValueError as e:\n",
    "        print('Error Code:', e)"
   ]
  },
  {
   "cell_type": "markdown",
   "metadata": {},
   "source": [
    "### Built-ins"
   ]
  },
  {
   "cell_type": "markdown",
   "metadata": {},
   "source": [
    "Zipped!"
   ]
  },
  {
   "cell_type": "code",
   "execution_count": null,
   "metadata": {},
   "outputs": [],
   "source": [
    "n, x = map(int, input().split())\n",
    "grades = []\n",
    "for _ in range(x):\n",
    "    grades.append((list(map(float, input().split()))))\n",
    "all_grades = list(zip(*grades))\n",
    "\n",
    "for i in all_grades:\n",
    "    print(sum(i)/x)"
   ]
  },
  {
   "cell_type": "markdown",
   "metadata": {},
   "source": [
    "Athlete Sort /or python sort sort"
   ]
  },
  {
   "cell_type": "code",
   "execution_count": null,
   "metadata": {},
   "outputs": [],
   "source": [
    "import math\n",
    "import os\n",
    "import random\n",
    "import re\n",
    "import sys\n",
    "\n",
    "if __name__ == '__main__':\n",
    "    nm = input().split()\n",
    "    n = int(nm[0])\n",
    "    m = int(nm[1])\n",
    "    arr = []\n",
    "    for _ in range(n):\n",
    "        arr.append(list(map(int, input().split())))\n",
    "    k = int(input())\n",
    "    \n",
    "    arr_sorted = sorted(arr, key=lambda x: x[k])\n",
    "\n",
    "    for row in arr_sorted:\n",
    "        print(' '.join(map(str, row)))"
   ]
  },
  {
   "cell_type": "markdown",
   "metadata": {},
   "source": [
    "ginortS"
   ]
  },
  {
   "cell_type": "code",
   "execution_count": null,
   "metadata": {},
   "outputs": [],
   "source": [
    "# Step 1: Input the string\n",
    "s = input()\n",
    "\n",
    "# Step 2: Categorize the characters\n",
    "lowercase = [ch for ch in s if ch.islower()]\n",
    "uppercase = [ch for ch in s if ch.isupper()]\n",
    "odd_digits = [ch for ch in s if ch.isdigit() and int(ch) % 2 == 1]\n",
    "even_digits = [ch for ch in s if ch.isdigit() and int(ch) % 2 == 0]\n",
    "\n",
    "# Step 3: Sort each category\n",
    "lowercase_sorted = sorted(lowercase)\n",
    "uppercase_sorted = sorted(uppercase)\n",
    "odd_digits_sorted = sorted(odd_digits)\n",
    "even_digits_sorted = sorted(even_digits)\n",
    "\n",
    "# Step 4: Combine the sorted lists\n",
    "sorted_string = ''.join(lowercase_sorted + uppercase_sorted + odd_digits_sorted + even_digits_sorted)\n",
    "\n",
    "# Step 5: Output the result\n",
    "print(sorted_string)"
   ]
  },
  {
   "cell_type": "markdown",
   "metadata": {},
   "source": [
    "### Python Functionals "
   ]
  },
  {
   "cell_type": "markdown",
   "metadata": {},
   "source": [
    "Map and lambda function"
   ]
  },
  {
   "cell_type": "code",
   "execution_count": null,
   "metadata": {},
   "outputs": [],
   "source": [
    "cube = lambda x: x**3 # complete the lambda function \n",
    "\n",
    "def fibonacci(n):\n",
    "    fib = [0, 1]\n",
    "    while len(fib) < n:\n",
    "        fib.append(fib[-1] + fib[-2])\n",
    "    return fib[:n]\n"
   ]
  },
  {
   "cell_type": "markdown",
   "metadata": {},
   "source": [
    "### Regex module "
   ]
  },
  {
   "cell_type": "markdown",
   "metadata": {},
   "source": [
    "Detect Floating Point Number"
   ]
  },
  {
   "cell_type": "code",
   "execution_count": null,
   "metadata": {},
   "outputs": [],
   "source": [
    "import re \n",
    "class Main():\n",
    "    def __init__(self):\n",
    "        self.n = int(input())\n",
    "        \n",
    "        for i in range(self.n):\n",
    "            self.s = input()\n",
    "            print(bool(re.match(r'^[-+]?[0-9]*\\.[0-9]+$',self.s)))\n",
    "            \n",
    "if __name__ == '__main__':\n",
    "    obj = Main()"
   ]
  },
  {
   "cell_type": "markdown",
   "metadata": {},
   "source": [
    "Re.split()"
   ]
  },
  {
   "cell_type": "code",
   "execution_count": null,
   "metadata": {},
   "outputs": [],
   "source": [
    "import re\n",
    "regex_pattern = r\"[.,]\""
   ]
  },
  {
   "cell_type": "markdown",
   "metadata": {},
   "source": [
    "Group(), Groups() & Groupdict()"
   ]
  },
  {
   "cell_type": "code",
   "execution_count": null,
   "metadata": {},
   "outputs": [],
   "source": [
    "import re\n",
    "s = input()\n",
    "rx = re.compile(r\"([a-zA-Z0-9])(?=\\1)\")\n",
    "print(rx.search(s)[0] if rx.search(s) else -1)"
   ]
  },
  {
   "cell_type": "markdown",
   "metadata": {},
   "source": [
    "Re.findall() & Re.finditer()"
   ]
  },
  {
   "cell_type": "code",
   "execution_count": null,
   "metadata": {},
   "outputs": [],
   "source": [
    "import re\n",
    "s = str(input())\n",
    "pattern = r'(?<=[bcdfghjklmnpqrstvwxyz])[aeiou]{2,}(?=[bcdfghjklmnpqrstvwxyz])'\n",
    "match = re.findall(pattern, s, re.IGNORECASE)\n",
    "if match:\n",
    "    print('\\n'.join(match))\n",
    "else:\n",
    "    print('-1')"
   ]
  },
  {
   "cell_type": "markdown",
   "metadata": {},
   "source": [
    "Re.start() & Re.end()"
   ]
  },
  {
   "cell_type": "code",
   "execution_count": null,
   "metadata": {},
   "outputs": [],
   "source": [
    "import re\n",
    "\n",
    "string = input()\n",
    "k = input()\n",
    "\n",
    "pattern = f\"(?=({k}))\"\n",
    "matches = re.finditer(pattern, string)\n",
    "indices = []\n",
    "\n",
    "for match in matches:\n",
    "    indices.append((match.start(), match.start() + len(k) - 1))\n",
    "\n",
    "if not indices:\n",
    "    print((-1, -1))\n",
    "else:\n",
    "    for x in indices:\n",
    "        print(x)"
   ]
  },
  {
   "cell_type": "markdown",
   "metadata": {},
   "source": [
    "Regex Substitution"
   ]
  },
  {
   "cell_type": "code",
   "execution_count": null,
   "metadata": {},
   "outputs": [],
   "source": [
    "import re\n",
    "\n",
    "def change(match):\n",
    "    value = match.group()\n",
    "    if value == \" && \":\n",
    "        return \" and \"\n",
    "    elif value == \" || \":\n",
    "        return \" or \"\n",
    "    else:\n",
    "        return value\n",
    "n = int(input())\n",
    "for i in range(n):\n",
    "    text = input()\n",
    "    while ' && ' in text or ' || ' in text:\n",
    "        text = re.sub(r\"\\s&&\\s|\\s\\|\\|\\s\",change, text)\n",
    "    else:\n",
    "        print(text)"
   ]
  },
  {
   "cell_type": "markdown",
   "metadata": {},
   "source": [
    "Validating Roman Numerals"
   ]
  },
  {
   "cell_type": "code",
   "execution_count": null,
   "metadata": {},
   "outputs": [],
   "source": [
    "import re \n",
    "regex_pattern = r\"^M{0,3}(CM|CD|D?C{0,3})(XC|XL|L?X{0,3})(IX|IV|V?I{0,3})$\""
   ]
  },
  {
   "cell_type": "markdown",
   "metadata": {},
   "source": [
    "Validating phone numbers"
   ]
  },
  {
   "cell_type": "code",
   "execution_count": null,
   "metadata": {},
   "outputs": [],
   "source": [
    "import re\n",
    "\n",
    "N = int(input())\n",
    "for _ in range(N):\n",
    "    phone_number = input().strip()\n",
    "    if re.match(r'^[789]\\d{9}$', phone_number):\n",
    "        print(\"YES\")\n",
    "    else:\n",
    "        print(\"NO\")"
   ]
  },
  {
   "cell_type": "markdown",
   "metadata": {},
   "source": [
    "Validating and Parsing Email Addresses"
   ]
  },
  {
   "cell_type": "code",
   "execution_count": null,
   "metadata": {},
   "outputs": [],
   "source": [
    "import re\n",
    "\n",
    "n = int(input())\n",
    "email_pattern = re.compile(r\"^<([a-zA-Z0-9%+][a-zA-Z0-9._%+-]*@[a-zA-Z]+\\.[a-zA-Z]{1,3})>$\")\n",
    "\n",
    "for _ in range(n):\n",
    "    name, email = input().split(maxsplit=1)\n",
    "    email = email.strip()\n",
    "    if email_pattern.match(email):\n",
    "        print(f\"{name} {email}\")"
   ]
  },
  {
   "cell_type": "markdown",
   "metadata": {},
   "source": [
    "Hex Color Code"
   ]
  },
  {
   "cell_type": "code",
   "execution_count": null,
   "metadata": {},
   "outputs": [],
   "source": [
    "import re\n",
    "\n",
    "pattern = r\"(#[0-9a-fA-F]{3}|#[0-9a-fA-F]{6})(?=[;),])\"\n",
    "n = int(input())\n",
    "print(*[i for l in [re.findall(pattern, input()) for _ in range(n)] for i in l], sep=\"\\n\")"
   ]
  },
  {
   "cell_type": "markdown",
   "metadata": {},
   "source": [
    "HTML Parser - Part 1"
   ]
  },
  {
   "cell_type": "code",
   "execution_count": null,
   "metadata": {},
   "outputs": [],
   "source": [
    "from html.parser import HTMLParser\n",
    "\n",
    "class MyHTMLParser(HTMLParser):\n",
    "    def handle_starttag(self, tag, attrs):\n",
    "        print(\"Start :\", tag)\n",
    "        self.print_tag_attrs(attrs=attrs)\n",
    "\n",
    "    def handle_endtag(self, tag):\n",
    "        print(\"End   :\", tag)\n",
    "\n",
    "    def handle_startendtag(self, tag, attrs):\n",
    "        print(\"Empty :\", tag)\n",
    "        self.print_tag_attrs(attrs=attrs)\n",
    "    \n",
    "    def print_tag_attrs(self, attrs):\n",
    "        [print(f\"-> {x[0]} > {x[1]}\") for x in attrs]\n",
    "\n",
    "parser = MyHTMLParser()\n",
    "parser.feed(''.join([input() for _ in range(int(input()))]))"
   ]
  },
  {
   "cell_type": "markdown",
   "metadata": {},
   "source": [
    "HTML Parser - Part 2"
   ]
  },
  {
   "cell_type": "code",
   "execution_count": null,
   "metadata": {},
   "outputs": [],
   "source": [
    "from html.parser import HTMLParser\n",
    "\n",
    "class MyHTMLParser(HTMLParser):\n",
    "    def handle_comment(self, data: str) -> None:\n",
    "        if not len(data.splitlines()) == 1:\n",
    "            print('>>> Multi-line Comment')\n",
    "            for line in data.splitlines():\n",
    "                print(line)\n",
    "        else:\n",
    "            print('>>> Single-line Comment')\n",
    "            print(data)\n",
    "    \n",
    "    def handle_data(self, data: str) -> None:\n",
    "        if not data == '\\n':\n",
    "            print('>>> Data')\n",
    "            for line in data.splitlines():\n",
    "                print(line)\n",
    "    \n",
    "  \n",
    "html = \"\"\n",
    "for i in range(int(input())):\n",
    "    html += input().rstrip()\n",
    "    html += '\\n'\n",
    "    \n",
    "parser = MyHTMLParser()\n",
    "parser.feed(html)\n",
    "parser.close()"
   ]
  },
  {
   "cell_type": "markdown",
   "metadata": {},
   "source": [
    "Detect HTML Tags, Attributes and Attribute Values"
   ]
  },
  {
   "cell_type": "code",
   "execution_count": null,
   "metadata": {},
   "outputs": [],
   "source": [
    "from html.parser import HTMLParser\n",
    "\n",
    "class MyHTMLParser(HTMLParser):\n",
    "    def handle_starttag(self, tag, attrs):\n",
    "        print(tag)\n",
    "        if attrs:\n",
    "            [print(f'-> {attr[0]} > {attr[1]}') for attr in attrs]\n",
    "    def handle_startendtag(self, tag, attrs):\n",
    "        print(tag)\n",
    "        if attrs:\n",
    "            [print(f'-> {attr[0]} > {attr[1]}') for attr in attrs]  \n",
    "  \n",
    "html = \"\"       \n",
    "for _ in range(int(input())):\n",
    "    html += input().rstrip()\n",
    "    html += '\\n'\n",
    "    \n",
    "parser = MyHTMLParser()\n",
    "parser.feed(html)\n",
    "parser.close()"
   ]
  },
  {
   "cell_type": "markdown",
   "metadata": {},
   "source": [
    "Validating UID"
   ]
  },
  {
   "cell_type": "code",
   "execution_count": null,
   "metadata": {},
   "outputs": [],
   "source": [
    "import re\n",
    "pattern = r'^(?=(.*[A-Z]){2})(?=(.*\\d){3})(?!.*(.).*\\3).{10}$'\n",
    "for _ in range(int(input())):\n",
    "    m = re.match(pattern, input())\n",
    "    if m:\n",
    "        print('Valid')\n",
    "    else:\n",
    "        print('Invalid')"
   ]
  },
  {
   "cell_type": "markdown",
   "metadata": {},
   "source": [
    "Validating Credit Card Numbers"
   ]
  },
  {
   "cell_type": "code",
   "execution_count": null,
   "metadata": {},
   "outputs": [],
   "source": [
    "import re\n",
    "\n",
    "total = int(input())\n",
    "text = []\n",
    "pattern = r'^(?=[456])(?!.*(\\d)(-?\\1){3})\\d{4}(-?\\d{4}){3}$'\n",
    "\n",
    "for _ in range(total):\n",
    "    value = input()\n",
    "    text.append(value)\n",
    "\n",
    "for num in text:\n",
    "    result = re.match(pattern, num)\n",
    "    if result:\n",
    "        print(\"Valid\")\n",
    "    else:\n",
    "        print(\"Invalid\")\n"
   ]
  },
  {
   "cell_type": "markdown",
   "metadata": {},
   "source": [
    "Validating Postal Codes ; works in PyPy3 terminal"
   ]
  },
  {
   "cell_type": "code",
   "execution_count": null,
   "metadata": {},
   "outputs": [],
   "source": [
    "regex_integer_in_range = r\"^[0-9]{6}$\"\t# Do not delete 'r'.\n",
    "regex_alternating_repetitive_digit_pair = r\"([0-9]{1})(?=[0-9]{1}\\1)\"\t# Do not delete 'r'"
   ]
  },
  {
   "cell_type": "markdown",
   "metadata": {},
   "source": [
    "Matrix Script"
   ]
  },
  {
   "cell_type": "code",
   "execution_count": null,
   "metadata": {},
   "outputs": [],
   "source": [
    "import math\n",
    "import os\n",
    "import random\n",
    "import re\n",
    "import sys\n",
    "\n",
    "N, M = map(int, input().split())\n",
    "\n",
    "matrix = []\n",
    "\n",
    "for _ in range(N):\n",
    "    matrix_item = input()\n",
    "    matrix.append(matrix_item)\n",
    "\n",
    "string = ''.join(matrix)\n",
    "decode = '' \n",
    "\n",
    "for i in range(M):\n",
    "    for index in range(i, len(string), M):\n",
    "        decode += string[index]\n",
    "        \n",
    "decode = re.sub('\\\\b\\W+\\\\b', ' ', decode)\n",
    "print(decode)"
   ]
  },
  {
   "cell_type": "markdown",
   "metadata": {},
   "source": [
    "### XML "
   ]
  },
  {
   "cell_type": "markdown",
   "metadata": {},
   "source": [
    "XML 1 - Find the Score"
   ]
  },
  {
   "cell_type": "code",
   "execution_count": null,
   "metadata": {},
   "outputs": [],
   "source": [
    "def get_attr_number(node):\n",
    "    attrs = len(node.attrib)\n",
    "    if len(node) == 0:\n",
    "        return attrs\n",
    "    return attrs + sum(get_attr_number(child) for child in node)"
   ]
  },
  {
   "cell_type": "markdown",
   "metadata": {},
   "source": [
    "XML2 - Find the Maximum Depth"
   ]
  },
  {
   "cell_type": "code",
   "execution_count": null,
   "metadata": {},
   "outputs": [],
   "source": [
    "maxdepth = 0\n",
    "def depth(elem, level):\n",
    "    global maxdepth\n",
    "    level += 1\n",
    "    for child in elem:\n",
    "        depth(child, level)\n",
    "    maxdepth = max(maxdepth, level)"
   ]
  },
  {
   "cell_type": "markdown",
   "metadata": {},
   "source": [
    "### Closures and Decorations"
   ]
  },
  {
   "cell_type": "markdown",
   "metadata": {},
   "source": [
    "Standardize Mobile Number Using Decorators"
   ]
  },
  {
   "cell_type": "code",
   "execution_count": null,
   "metadata": {},
   "outputs": [],
   "source": [
    "from re import sub\n",
    "\n",
    "def wrapper(f):\n",
    "    r = r\"^(?:\\+?91|0)??(\\d{5})(\\d{5})$\"\n",
    "    s = r\"+91 \\1 \\2\"\n",
    "    \n",
    "    def fun(li):\n",
    "        return f([sub(r, s, i) for i in li])\n",
    "    return fun"
   ]
  },
  {
   "cell_type": "markdown",
   "metadata": {},
   "source": [
    "Decorators 2 - Name Directory"
   ]
  },
  {
   "cell_type": "code",
   "execution_count": null,
   "metadata": {},
   "outputs": [],
   "source": [
    "def person_lister(f):\n",
    "    def inner(people):\n",
    "        sorted_people = sorted(people, key=lambda x: int(x[2]))\n",
    "        return [f(person) for person in sorted_people]\n",
    "    return inner"
   ]
  },
  {
   "cell_type": "markdown",
   "metadata": {},
   "source": [
    "### Numpy"
   ]
  },
  {
   "cell_type": "markdown",
   "metadata": {},
   "source": [
    "Arrays"
   ]
  },
  {
   "cell_type": "code",
   "execution_count": null,
   "metadata": {},
   "outputs": [],
   "source": [
    "def arrays(arr):\n",
    "    return numpy.array(arr, dtype =float)[::-1]"
   ]
  },
  {
   "cell_type": "markdown",
   "metadata": {},
   "source": [
    "Shape and Reshape"
   ]
  },
  {
   "cell_type": "code",
   "execution_count": null,
   "metadata": {},
   "outputs": [],
   "source": [
    "import numpy as np\n",
    "\n",
    "input_string = input()\n",
    "print(np.array(input_string.split(), dtype=int).reshape(3, 3))"
   ]
  },
  {
   "cell_type": "markdown",
   "metadata": {},
   "source": [
    "Transpose and Flatten"
   ]
  },
  {
   "cell_type": "code",
   "execution_count": null,
   "metadata": {},
   "outputs": [],
   "source": [
    "import numpy as np\n",
    "\n",
    "n, m = map(int, input().split())\n",
    "lst = []\n",
    "\n",
    "for _ in range(n):\n",
    "    lst.append(list(map(int, input().split())))\n",
    "arr = np.array(lst)\n",
    "print(np.transpose(arr))\n",
    "print(arr.flatten())"
   ]
  },
  {
   "cell_type": "markdown",
   "metadata": {},
   "source": [
    "Zeros and Ones"
   ]
  },
  {
   "cell_type": "code",
   "execution_count": null,
   "metadata": {},
   "outputs": [],
   "source": [
    "import numpy as np\n",
    "\n",
    "a = input()\n",
    "b = list(map(int, a.split()))\n",
    "\n",
    "zeros_array = np.zeros(b, dtype=int)\n",
    "ones_array = np.ones(b, dtype=int)\n",
    "\n",
    "print(zeros_array)\n",
    "print(ones_array)"
   ]
  },
  {
   "cell_type": "markdown",
   "metadata": {},
   "source": [
    "Eye and Identity"
   ]
  },
  {
   "cell_type": "code",
   "execution_count": null,
   "metadata": {},
   "outputs": [],
   "source": [
    "import numpy as np\n",
    "\n",
    "np.set_printoptions(legacy=\"1.13\")\n",
    "N, M = list(map(int, input().split()))\n",
    "\n",
    "print(np.eye(N, M, k=0))"
   ]
  },
  {
   "cell_type": "markdown",
   "metadata": {},
   "source": [
    "Array Mathematics"
   ]
  },
  {
   "cell_type": "code",
   "execution_count": null,
   "metadata": {},
   "outputs": [],
   "source": [
    "import numpy\n",
    "\n",
    "n, m = input().split()\n",
    "\n",
    "a1 = numpy.array([list(map(int, input().split())) for i in range(int(n))])\n",
    "a2 = numpy.array([list(map(int, input().split())) for i in range(int(n))])\n",
    "\n",
    "print(numpy.add(a1, a2))\n",
    "print(numpy.subtract(a1, a2))\n",
    "print(numpy.multiply(a1, a2))\n",
    "print(numpy.floor_divide(a1, a2))\n",
    "print(numpy.mod(a1, a2))\n",
    "print(numpy.power(a1, a2))"
   ]
  },
  {
   "cell_type": "markdown",
   "metadata": {},
   "source": [
    "Floor, Ceil and Rint"
   ]
  },
  {
   "cell_type": "code",
   "execution_count": null,
   "metadata": {},
   "outputs": [],
   "source": [
    "import numpy as np\n",
    "np.set_printoptions(legacy='1.13')\n",
    "\n",
    "A = list(map(float, input().split()))\n",
    "arr = np.array(A)\n",
    "print(np.floor(arr))\n",
    "print(np.ceil(arr))\n",
    "print(np.rint(arr))"
   ]
  },
  {
   "cell_type": "markdown",
   "metadata": {},
   "source": [
    "Sum and Prod"
   ]
  },
  {
   "cell_type": "code",
   "execution_count": null,
   "metadata": {},
   "outputs": [],
   "source": [
    "import numpy as np\n",
    "\n",
    "n, m = map(int, input().split())\n",
    "\n",
    "arr = np.array([list(map(int, input().split())) for _ in range(m)])\n",
    "sum0 = np.sum(arr, 0)\n",
    "print(np.prod(sum0))"
   ]
  },
  {
   "cell_type": "markdown",
   "metadata": {},
   "source": [
    "Min and Max"
   ]
  },
  {
   "cell_type": "code",
   "execution_count": null,
   "metadata": {},
   "outputs": [],
   "source": [
    "import numpy as np\n",
    "\n",
    "n, m = map(int, input().split())\n",
    "\n",
    "arr = np.array([list(map(int, input().split())) for i in range(m)])\n",
    "'#min0 = np.min(arr)'\n",
    "result = np.min(arr, axis=1)\n",
    "print(np.max(result))\n",
    "'#print(min0)'"
   ]
  },
  {
   "cell_type": "markdown",
   "metadata": {},
   "source": [
    "Mean, Var, and Std"
   ]
  },
  {
   "cell_type": "code",
   "execution_count": null,
   "metadata": {},
   "outputs": [],
   "source": [
    "import numpy as np\n",
    "\n",
    "n, m = map(int, input().split())\n",
    "arr = [list(map(int, input().split()[:m])) for _ in range(n)]\n",
    "arr = np.array(arr)\n",
    "\n",
    "print(np.mean(arr, axis=1))\n",
    "print(np.var(arr, axis=0))\n",
    "print(np.around(np.std(arr, axis=None), 11))"
   ]
  },
  {
   "cell_type": "markdown",
   "metadata": {},
   "source": [
    "Dot and Cross"
   ]
  },
  {
   "cell_type": "code",
   "execution_count": null,
   "metadata": {},
   "outputs": [],
   "source": [
    "import numpy as np\n",
    "\n",
    "n = int(input())\n",
    "A = np.array([list(map(int, input().split())) for _ in range(n)])\n",
    "B = np.array([list(map(int, input().split())) for _ in range(n)])\n",
    "result = np.dot(A, B)\n",
    "print(result)"
   ]
  },
  {
   "cell_type": "markdown",
   "metadata": {},
   "source": [
    "Inner and Outer"
   ]
  },
  {
   "cell_type": "code",
   "execution_count": null,
   "metadata": {},
   "outputs": [],
   "source": [
    "import numpy as np\n",
    "\n",
    "A = np.array(list(map(int, input().split())))\n",
    "B = np.array(list(map(int, input().split())))\n",
    "\n",
    "inner_product = np.inner(A, B)\n",
    "print(inner_product)\n",
    "\n",
    "outer_product = np.outer(A, B)\n",
    "print(outer_product)"
   ]
  },
  {
   "cell_type": "markdown",
   "metadata": {},
   "source": [
    "Polynomials"
   ]
  },
  {
   "cell_type": "code",
   "execution_count": null,
   "metadata": {},
   "outputs": [],
   "source": [
    "import numpy as np\n",
    "\n",
    "p = list(map(float, input().split()))\n",
    "x = int(input())\n",
    "arr = np.polyval(p, x)\n",
    "print(arr)"
   ]
  },
  {
   "cell_type": "markdown",
   "metadata": {},
   "source": [
    "Linear Algebra"
   ]
  },
  {
   "cell_type": "code",
   "execution_count": null,
   "metadata": {},
   "outputs": [],
   "source": [
    "import numpy\n",
    "\n",
    "n = int(input())\n",
    "a = numpy.array([list(map(float, input().split())) for i in range(n)])\n",
    "b = round(numpy.linalg.det(a), 2)\n",
    "print(b)"
   ]
  },
  {
   "cell_type": "markdown",
   "metadata": {},
   "source": [
    "Concatenate"
   ]
  },
  {
   "cell_type": "code",
   "execution_count": null,
   "metadata": {},
   "outputs": [],
   "source": [
    "import numpy\n",
    "\n",
    "n, m, _ = map(int, input().split())\n",
    "a1 = numpy.vstack([list(map(int, input().split())) for _ in range(n)])\n",
    "a2 = numpy.vstack([list(map(int, input().split())) for _ in range(m)])\n",
    "print(numpy.concatenate((a1, a2), axis=0))"
   ]
  },
  {
   "cell_type": "markdown",
   "metadata": {},
   "source": [
    "### Algorithms in Python"
   ]
  },
  {
   "cell_type": "markdown",
   "metadata": {},
   "source": [
    "Birthday Cake Candles"
   ]
  },
  {
   "cell_type": "code",
   "execution_count": null,
   "metadata": {},
   "outputs": [],
   "source": [
    "import math\n",
    "import os\n",
    "import random\n",
    "import re\n",
    "import sys\n",
    "\n",
    "#\n",
    "# Complete the 'birthdayCakeCandles' function below.\n",
    "#\n",
    "# The function is expected to return an INTEGER.\n",
    "# The function accepts INTEGER_ARRAY candles as parameter.\n",
    "\n",
    "\n",
    "def birthdayCakeCandles(candles):\n",
    "    m = max(candles)\n",
    "    return candles.count(m)\n",
    "    \n",
    "if __name__ == '__main__':\n",
    "    fptr = open(os.environ['OUTPUT_PATH'], 'w')\n",
    "\n",
    "    candles_count = int(input().strip())\n",
    "\n",
    "    candles = list(map(int, input().rstrip().split()))\n",
    "\n",
    "    result = birthdayCakeCandles(candles)\n",
    "\n",
    "    fptr.write(str(result) + '\\n')\n",
    "\n",
    "    fptr.close()"
   ]
  },
  {
   "cell_type": "markdown",
   "metadata": {},
   "source": [
    "Number Line Jumps"
   ]
  },
  {
   "cell_type": "code",
   "execution_count": null,
   "metadata": {},
   "outputs": [],
   "source": [
    "import math\n",
    "import os\n",
    "import random\n",
    "import re\n",
    "import sys\n",
    "\n",
    "#\n",
    "# Complete the 'kangaroo' function below.\n",
    "#\n",
    "# The function is expected to return a STRING.\n",
    "# The function accepts following parameters:\n",
    "#  1. INTEGER x1\n",
    "#  2. INTEGER v1\n",
    "#  3. INTEGER x2\n",
    "#  4. INTEGER v2\n",
    "#\n",
    "\n",
    "def kangaroo(x1, v1, x2, v2):\n",
    "    if x1 == x2:\n",
    "        return 'YES'\n",
    "        \n",
    "    dx = x2 - x1\n",
    "    dv = v1 - v2\n",
    "    if dv == 0:\n",
    "        return 'NO'\n",
    "    if (dx % dv == 0) and (dx / dv >= 0):\n",
    "        return 'YES'\n",
    "    else:\n",
    "        return 'NO'\n",
    "\n",
    "\n",
    "if __name__ == '__main__':\n",
    "    fptr = open(os.environ['OUTPUT_PATH'], 'w')\n",
    "\n",
    "    first_multiple_input = input().rstrip().split()\n",
    "\n",
    "    x1 = int(first_multiple_input[0])\n",
    "\n",
    "    v1 = int(first_multiple_input[1])\n",
    "\n",
    "    x2 = int(first_multiple_input[2])\n",
    "\n",
    "    v2 = int(first_multiple_input[3])\n",
    "\n",
    "    result = kangaroo(x1, v1, x2, v2)\n",
    "\n",
    "    fptr.write(result + '\\n')\n",
    "\n",
    "    fptr.close()"
   ]
  },
  {
   "cell_type": "markdown",
   "metadata": {},
   "source": [
    "Viral Advertising"
   ]
  },
  {
   "cell_type": "code",
   "execution_count": null,
   "metadata": {},
   "outputs": [],
   "source": [
    "import math\n",
    "import os\n",
    "import random\n",
    "import re\n",
    "import sys\n",
    "\n",
    "#\n",
    "# Complete the 'viralAdvertising' function below.\n",
    "#\n",
    "# The function is expected to return an INTEGER.\n",
    "# The function accepts INTEGER n as parameter.\n",
    "#\n",
    "\n",
    "def viralAdvertising(n):\n",
    "    shared = 5\n",
    "    liked = shared//2\n",
    "    cumulative = liked\n",
    "    \n",
    "    for _ in range(2, n+1):\n",
    "        shared = liked * 3\n",
    "        liked = shared//2\n",
    "        cumulative += liked\n",
    "    return cumulative\n",
    "    \n",
    "\n",
    "if __name__ == '__main__':\n",
    "    fptr = open(os.environ['OUTPUT_PATH'], 'w')\n",
    "\n",
    "    n = int(input().strip())\n",
    "\n",
    "    result = viralAdvertising(n)\n",
    "\n",
    "    fptr.write(str(result) + '\\n')\n",
    "\n",
    "    fptr.close()\n"
   ]
  },
  {
   "cell_type": "markdown",
   "metadata": {},
   "source": [
    "Recursive Digit Sum"
   ]
  },
  {
   "cell_type": "code",
   "execution_count": null,
   "metadata": {},
   "outputs": [],
   "source": [
    "import math\n",
    "import os\n",
    "import random\n",
    "import re\n",
    "import sys\n",
    "\n",
    "#\n",
    "# Complete the 'superDigit' function below.\n",
    "#\n",
    "# The function is expected to return an INTEGER.\n",
    "# The function accepts following parameters:\n",
    "#  1. STRING n\n",
    "#  2. INTEGER k\n",
    "\n",
    "def superDigit(n, k):\n",
    "    num = str(sum(map(int, str(n))) * k)\n",
    "    while len(num) > 1:\n",
    "        num = str(sum(map(int, num)))\n",
    "    return int(num)\n",
    "    \n",
    "if __name__ == '__main__':\n",
    "    fptr = open(os.environ['OUTPUT_PATH'], 'w')\n",
    "\n",
    "    first_multiple_input = input().rstrip().split()\n",
    "\n",
    "    n = first_multiple_input[0]\n",
    "\n",
    "    k = int(first_multiple_input[1])\n",
    "\n",
    "    result = superDigit(n, k)\n",
    "\n",
    "    fptr.write(str(result) + '\\n')\n",
    "\n",
    "    fptr.close()"
   ]
  },
  {
   "cell_type": "markdown",
   "metadata": {},
   "source": [
    "Insertion Sort - Part 1"
   ]
  },
  {
   "cell_type": "code",
   "execution_count": null,
   "metadata": {},
   "outputs": [],
   "source": [
    "import math\n",
    "import os\n",
    "import random\n",
    "import re\n",
    "import sys\n",
    "\n",
    "#\n",
    "# Complete the 'insertionSort1' function below.\n",
    "#\n",
    "# The function accepts following parameters:\n",
    "#  1. INTEGER n\n",
    "#  2. INTEGER_ARRAY arr\n",
    "#\n",
    "\n",
    "def insertionSort1(n, arr):\n",
    "    value = arr[-1]\n",
    "    i = n - 2\n",
    "    while i >= 0 and arr[i] > value:\n",
    "        arr[i + 1] = arr[i]\n",
    "        print(\" \".join(map(str, arr)))\n",
    "        i -= 1\n",
    "    arr[i + 1] = value\n",
    "    print(\" \".join(map(str, arr)))\n",
    "\n",
    "if __name__ == '__main__':\n",
    "    n = int(input().strip())\n",
    "\n",
    "    arr = list(map(int, input().rstrip().split()))\n",
    "\n",
    "    insertionSort1(n, arr)"
   ]
  },
  {
   "cell_type": "markdown",
   "metadata": {},
   "source": [
    "Insertion Sort - Part 2"
   ]
  },
  {
   "cell_type": "code",
   "execution_count": null,
   "metadata": {},
   "outputs": [],
   "source": [
    "import math\n",
    "import os\n",
    "import random\n",
    "import re\n",
    "import sys\n",
    "\n",
    "#\n",
    "# Complete the 'insertionSort2' function below.\n",
    "#\n",
    "# The function accepts following parameters:\n",
    "#  1. INTEGER n\n",
    "#  2. INTEGER_ARRAY arr\n",
    "#\n",
    "\n",
    "def insertionSort2(n, arr):\n",
    "    for i in range(1, n):\n",
    "        value = arr[i]\n",
    "        j = i - 1\n",
    "        while j >= 0 and arr[j] > value:\n",
    "            arr[j + 1] = arr[j]\n",
    "            j -= 1\n",
    "        arr[j + 1] = value\n",
    "        print(\" \".join(map(str, arr)))\n",
    "\n",
    "if __name__ == '__main__':\n",
    "    n = int(input().strip())\n",
    "\n",
    "    arr = list(map(int, input().rstrip().split()))\n",
    "\n",
    "    insertionSort2(n, arr)"
   ]
  }
 ],
 "metadata": {
  "language_info": {
   "name": "python"
  },
  "orig_nbformat": 4
 },
 "nbformat": 4,
 "nbformat_minor": 2
}
